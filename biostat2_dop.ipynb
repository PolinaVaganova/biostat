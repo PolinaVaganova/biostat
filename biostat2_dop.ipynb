{
 "cells": [
  {
   "cell_type": "code",
   "execution_count": 8,
   "id": "0a73a49f",
   "metadata": {
    "scrolled": true
   },
   "outputs": [
    {
     "data": {
      "text/html": [
       "<div>\n",
       "<style scoped>\n",
       "    .dataframe tbody tr th:only-of-type {\n",
       "        vertical-align: middle;\n",
       "    }\n",
       "\n",
       "    .dataframe tbody tr th {\n",
       "        vertical-align: top;\n",
       "    }\n",
       "\n",
       "    .dataframe thead th {\n",
       "        text-align: right;\n",
       "    }\n",
       "</style>\n",
       "<table border=\"1\" class=\"dataframe\">\n",
       "  <thead>\n",
       "    <tr style=\"text-align: right;\">\n",
       "      <th></th>\n",
       "      <th>Unnamed: 0</th>\n",
       "      <th>здоровые</th>\n",
       "      <th>больные</th>\n",
       "    </tr>\n",
       "  </thead>\n",
       "  <tbody>\n",
       "    <tr>\n",
       "      <th>0</th>\n",
       "      <td>привитые</td>\n",
       "      <td>23</td>\n",
       "      <td>5</td>\n",
       "    </tr>\n",
       "    <tr>\n",
       "      <th>1</th>\n",
       "      <td>непривитые</td>\n",
       "      <td>12</td>\n",
       "      <td>9</td>\n",
       "    </tr>\n",
       "  </tbody>\n",
       "</table>\n",
       "</div>"
      ],
      "text/plain": [
       "   Unnamed: 0  здоровые  больные\n",
       "0    привитые        23        5\n",
       "1  непривитые        12        9"
      ]
     },
     "execution_count": 8,
     "metadata": {},
     "output_type": "execute_result"
    }
   ],
   "source": [
    "import pandas as pd\n",
    "import os\n",
    "\n",
    "path_to_dir = r\"C:\\Users\\lenovo\\Documents\\6 семестр\\статистика\\спбгу\"\n",
    "\n",
    "# task 9.2: в) Оцените долю заболевших среди привитых и непривитых.\n",
    "\n",
    "df = pd.read_excel(os.path.join(path_to_dir, \"input1.9.xlsx\"))\n",
    "df"
   ]
  },
  {
   "cell_type": "code",
   "execution_count": 31,
   "id": "c7613a7a",
   "metadata": {
    "scrolled": true
   },
   "outputs": [
    {
     "name": "stdout",
     "output_type": "stream",
     "text": [
      "доля заболевших среди привитых =  0.18\n",
      "доля заболевших среди непривитых =  0.43\n"
     ]
    }
   ],
   "source": [
    "print(\"доля заболевших среди привитых = \", (df.iloc[0, 2] / (df.iloc[0, 1] + df.iloc[0, 2])).round(2))\n",
    "print(\"доля заболевших среди непривитых = \", (df.iloc[1, 2] / (df.iloc[1, 1] + df.iloc[1, 2])).round(2))"
   ]
  },
  {
   "cell_type": "code",
   "execution_count": null,
   "id": "e9c30337",
   "metadata": {},
   "outputs": [],
   "source": []
  }
 ],
 "metadata": {
  "kernelspec": {
   "display_name": "Python 3 (ipykernel)",
   "language": "python",
   "name": "python3"
  },
  "language_info": {
   "codemirror_mode": {
    "name": "ipython",
    "version": 3
   },
   "file_extension": ".py",
   "mimetype": "text/x-python",
   "name": "python",
   "nbconvert_exporter": "python",
   "pygments_lexer": "ipython3",
   "version": "3.8.2"
  }
 },
 "nbformat": 4,
 "nbformat_minor": 5
}
